{
 "cells": [
  {
   "cell_type": "code",
   "execution_count": 1,
   "id": "930a4479",
   "metadata": {},
   "outputs": [],
   "source": [
    "class NodoArbol:\n",
    "    def __init__(self, dato):\n",
    "        self.dato = dato\n",
    "        self.nodoPadre = None\n",
    "        self.nodosHijos = []\n",
    "\n",
    "    def añadirHijo(self,hijo):\n",
    "        self.nodosHijos.append(hijo)\n",
    "        hijo.nodoPadre = self"
   ]
  },
  {
   "cell_type": "code",
   "execution_count": 2,
   "id": "152c0de7",
   "metadata": {},
   "outputs": [],
   "source": [
    "carpeta1 = NodoArbol(\"F1\")\n",
    "carpeta2 = NodoArbol(\"F2\")\n",
    "carpeta3 = NodoArbol(\"F3\")\n",
    "carpeta5 = NodoArbol(\"F5\")\n",
    "\n",
    " \n",
    "\n",
    "carpeta1.añadirHijo(carpeta2)\n",
    "carpeta1.añadirHijo(carpeta3)\n",
    "carpeta2.añadirHijo(carpeta5)"
   ]
  },
  {
   "cell_type": "code",
   "execution_count": null,
   "id": "e69d4eff",
   "metadata": {},
   "outputs": [],
   "source": []
  }
 ],
 "metadata": {
  "kernelspec": {
   "display_name": "Python 3 (ipykernel)",
   "language": "python",
   "name": "python3"
  },
  "language_info": {
   "codemirror_mode": {
    "name": "ipython",
    "version": 3
   },
   "file_extension": ".py",
   "mimetype": "text/x-python",
   "name": "python",
   "nbconvert_exporter": "python",
   "pygments_lexer": "ipython3",
   "version": "3.9.12"
  }
 },
 "nbformat": 4,
 "nbformat_minor": 5
}
