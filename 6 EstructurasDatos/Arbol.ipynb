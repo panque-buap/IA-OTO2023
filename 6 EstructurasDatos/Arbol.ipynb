{
 "cells": [
  {
   "cell_type": "code",
   "execution_count": 10,
   "id": "930a4479",
   "metadata": {},
   "outputs": [],
   "source": [
    "class NodoArbol:\n",
    "    def __init__(self, dato):\n",
    "        self.dato = dato\n",
    "        self.nodoPadre = None\n",
    "        self.nodosHijos = []\n",
    "\n",
    "    def añadirHijo(self,hijo):\n",
    "        self.nodosHijos.append(hijo)\n",
    "        hijo.nodoPadre = self\n",
    "        \n",
    "    def mostrar(self):\n",
    "        pass\n",
    "    \n",
    "    \n",
    "    def buscar(self, elemento):\n",
    "        #self es la direccion de A \n",
    "        #elemento es X\n",
    "        \n",
    "        def buscarRecursivo():\n",
    "            \n",
    "            if(len(listaFrontera)==0):\n",
    "                print(\"NO ENCONTRADO\")\n",
    "        \n",
    "            else:\n",
    "\n",
    "                if(listaFrontera[-1].dato == elemento):\n",
    "                    print(\"ENCONTRADO\")\n",
    "                else:\n",
    "                    listaExplorados.append(listaFrontera[-1].dato)\n",
    "                    temporal = listaFrontera[-1]\n",
    "                    listaFrontera.pop()\n",
    "\n",
    "\n",
    "                    for hijo in temporal.nodosHijos:\n",
    "                        listaFrontera.append(hijo)\n",
    "                        \n",
    "                        \n",
    "                        \n",
    "                    buscarRecursivo()\n",
    "                        \n",
    "                    \n",
    "            \n",
    "        \n",
    "    \n",
    "        listaFrontera = []\n",
    "        listaExplorados = []\n",
    "        \n",
    "        listaFrontera.append(self)\n",
    "        buscarRecursivo()\n",
    "        \n",
    "        print(listaExplorados)\n",
    "            \n",
    "        \n",
    "        "
   ]
  },
  {
   "cell_type": "code",
   "execution_count": 11,
   "id": "152c0de7",
   "metadata": {},
   "outputs": [],
   "source": [
    "A = NodoArbol(\"A\")\n",
    "\n",
    "B = NodoArbol(\"B\")\n",
    "C = NodoArbol(\"C\")\n",
    "D = NodoArbol(\"D\")\n",
    "\n",
    "E  = NodoArbol(\"E\")\n",
    "F  = NodoArbol(\"F\")\n",
    "G  = NodoArbol(\"G\")\n",
    "H  = NodoArbol(\"H\")\n",
    "I  = NodoArbol(\"I\")\n",
    "J  = NodoArbol(\"J\")\n",
    "\n",
    "K  = NodoArbol(\"K\")\n",
    "L  = NodoArbol(\"L\")\n",
    "M  = NodoArbol(\"M\")\n",
    "N  = NodoArbol(\"N\")\n",
    "O  = NodoArbol(\"O\")\n",
    "\n",
    "A.añadirHijo(B)\n",
    "A.añadirHijo(C)\n",
    "A.añadirHijo(D)\n",
    "\n",
    "B.añadirHijo(E)\n",
    "B.añadirHijo(F)\n",
    "B.añadirHijo(G)\n",
    "\n",
    "E.añadirHijo(K)\n",
    "E.añadirHijo(L)\n",
    "\n",
    "C.añadirHijo(H)\n",
    "\n",
    "D.añadirHijo(I)\n",
    "D.añadirHijo(J)\n",
    "\n",
    "I.añadirHijo(M)\n",
    "\n",
    "J.añadirHijo(N)\n",
    "J.añadirHijo(O)\n",
    "\n",
    "\n"
   ]
  },
  {
   "cell_type": "code",
   "execution_count": 12,
   "id": "e69d4eff",
   "metadata": {},
   "outputs": [
    {
     "name": "stdout",
     "output_type": "stream",
     "text": [
      "NO ENCONTRADO\n",
      "['A', 'D', 'J', 'O', 'N', 'I', 'M', 'C', 'H', 'B', 'G', 'F', 'E', 'L', 'K']\n"
     ]
    }
   ],
   "source": [
    "A.buscar(\"Y\")"
   ]
  },
  {
   "cell_type": "code",
   "execution_count": null,
   "id": "451351d0",
   "metadata": {},
   "outputs": [],
   "source": []
  }
 ],
 "metadata": {
  "kernelspec": {
   "display_name": "Python 3 (ipykernel)",
   "language": "python",
   "name": "python3"
  },
  "language_info": {
   "codemirror_mode": {
    "name": "ipython",
    "version": 3
   },
   "file_extension": ".py",
   "mimetype": "text/x-python",
   "name": "python",
   "nbconvert_exporter": "python",
   "pygments_lexer": "ipython3",
   "version": "3.9.12"
  }
 },
 "nbformat": 4,
 "nbformat_minor": 5
}
