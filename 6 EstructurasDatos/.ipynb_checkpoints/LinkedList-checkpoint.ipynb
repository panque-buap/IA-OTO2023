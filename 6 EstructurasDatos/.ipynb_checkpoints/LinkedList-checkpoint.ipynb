{
 "cells": [
  {
   "cell_type": "code",
   "execution_count": null,
   "id": "0adc4f62",
   "metadata": {},
   "outputs": [],
   "source": [
    "#El siguiente programa tine por objetivo \n",
    "# realizar una lista enlazada o linked list\n",
    "\n",
    "class Nodo:\n",
    "    \n",
    "    def __init__(self, dato):\n",
    "        self.dato = dato\n",
    "        self.direccion = None\n",
    "        \n",
    "        \n",
    "class ListaEnlazada:\n",
    "    \n",
    "    def __init__(self):\n",
    "        pass"
   ]
  }
 ],
 "metadata": {
  "kernelspec": {
   "display_name": "Python 3 (ipykernel)",
   "language": "python",
   "name": "python3"
  },
  "language_info": {
   "codemirror_mode": {
    "name": "ipython",
    "version": 3
   },
   "file_extension": ".py",
   "mimetype": "text/x-python",
   "name": "python",
   "nbconvert_exporter": "python",
   "pygments_lexer": "ipython3",
   "version": "3.9.12"
  }
 },
 "nbformat": 4,
 "nbformat_minor": 5
}
