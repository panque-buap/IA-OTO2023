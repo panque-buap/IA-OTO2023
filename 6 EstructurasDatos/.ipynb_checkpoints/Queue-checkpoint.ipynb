{
 "cells": [
  {
   "cell_type": "code",
   "execution_count": null,
   "id": "b02afc88",
   "metadata": {},
   "outputs": [],
   "source": [
    "#Una fila (queue) es una estructura de datos\n",
    "# utilizada para almacenar informacion\n",
    "# de manera consecutiva, muy similar al stack\n",
    "# pero con la diferencia de que los datos se\n",
    "# almacenarán bajo el principio FIFO \n",
    "# (First In First Out)"
   ]
  },
  {
   "cell_type": "code",
   "execution_count": null,
   "id": "134d6646",
   "metadata": {},
   "outputs": [],
   "source": [
    "#Algunas operaciones de una fila son las siguientes:\n",
    "# operación enqueue: se utiliza para añadir datos \n",
    "# operación dequeue: se utiliza para remover datos\n",
    "# operacion isEmpty: se utiliza  para determinar si \n",
    "# la fila tiene o no elementos \n",
    "# operación front: se utiliza para identificar al\n",
    "# primer elemento de la fila\n",
    "#operación back: se utiliza para identificar \n",
    "# al ultimo elemento de la fila"
   ]
  },
  {
   "cell_type": "code",
   "execution_count": 8,
   "id": "0441031d",
   "metadata": {},
   "outputs": [
    {
     "name": "stdout",
     "output_type": "stream",
     "text": [
      "['Persona 1', 'Persona 2', 'Persona 3', 'Persona 4']\n",
      "\n",
      "\n",
      "['Persona 2', 'Persona 3', 'Persona 4']\n",
      "\n",
      "False\n",
      "\n",
      "Persona 2\n",
      "\n",
      "Persona 4\n"
     ]
    }
   ],
   "source": [
    "#Fila de izquierda a derecha\n",
    "\n",
    "fila = []\n",
    "\n",
    "#operacion enqueue\n",
    "fila.append(\"Persona 1\")\n",
    "fila.append(\"Persona 2\")\n",
    "fila.append(\"Persona 3\")\n",
    "fila.append(\"Persona 4\")\n",
    "\n",
    "print(fila)\n",
    "print(\"\")\n",
    "#operacion dequeue\n",
    "fila.pop(0)\n",
    "print(\"\")\n",
    "\n",
    "print(fila)\n",
    "\n",
    "\n",
    "#operacion isEmpty\n",
    "print(\"\")\n",
    "if len(fila)>0:\n",
    "    print(False)\n",
    "else:\n",
    "    print(True)\n",
    "\n",
    "#operacion front\n",
    "print(\"\")\n",
    "print(fila[0])\n",
    "\n",
    "#operacion back\n",
    "print(\"\")\n",
    "print(fila[-1])"
   ]
  },
  {
   "cell_type": "code",
   "execution_count": 12,
   "id": "08687eac",
   "metadata": {},
   "outputs": [
    {
     "name": "stdout",
     "output_type": "stream",
     "text": [
      "['Persona 4', 'Persona 3', 'Persona 2', 'Persona 1']\n",
      "\n",
      "\n",
      "['Persona 4', 'Persona 3', 'Persona 2']\n",
      "\n",
      "False\n",
      "\n",
      "Persona 2\n",
      "\n",
      "Persona 4\n"
     ]
    }
   ],
   "source": [
    "#Fila de derecha a izquierda\n",
    "class Queue:\n",
    "\n",
    "    def __init__(self):\n",
    "        self.fila = []\n",
    "\n",
    "    def enqueue(self,dato):\n",
    "        self.fila.insert(0,dato)\n",
    "        \n",
    "        \n",
    "fila = []\n",
    "\n",
    "#operacion enqueue\n",
    "fila.insert(0,\"Persona 1\")\n",
    "fila.insert(0,\"Persona 2\")\n",
    "fila.insert(0,\"Persona 3\")\n",
    "fila.insert(0,\"Persona 4\")\n",
    "\n",
    "print(fila)\n",
    "print(\"\")\n",
    "#operacion dequeue\n",
    "fila.pop()\n",
    "print(\"\")\n",
    "\n",
    "print(fila)\n",
    "\n",
    "\n",
    "#operacion isEmpty\n",
    "print(\"\")\n",
    "if len(fila)>0:\n",
    "    print(False)\n",
    "else:\n",
    "    print(True)\n",
    "\n",
    "#operacion front\n",
    "print(\"\")\n",
    "print(fila[-1])\n",
    "\n",
    "#operacion back\n",
    "print(\"\")\n",
    "print(fila[0])"
   ]
  },
  {
   "cell_type": "code",
   "execution_count": null,
   "id": "a42bcc0a",
   "metadata": {},
   "outputs": [],
   "source": []
  }
 ],
 "metadata": {
  "kernelspec": {
   "display_name": "Python 3 (ipykernel)",
   "language": "python",
   "name": "python3"
  },
  "language_info": {
   "codemirror_mode": {
    "name": "ipython",
    "version": 3
   },
   "file_extension": ".py",
   "mimetype": "text/x-python",
   "name": "python",
   "nbconvert_exporter": "python",
   "pygments_lexer": "ipython3",
   "version": "3.9.12"
  }
 },
 "nbformat": 4,
 "nbformat_minor": 5
}
