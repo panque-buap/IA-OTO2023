{
 "cells": [
  {
   "cell_type": "code",
   "execution_count": 16,
   "id": "0adc4f62",
   "metadata": {},
   "outputs": [],
   "source": [
    "#El siguiente programa tine por objetivo \n",
    "# realizar una lista enlazada o linked list\n",
    "\n",
    "class Nodo:\n",
    "    \n",
    "    def __init__(self, dato):\n",
    "        self.dato = dato\n",
    "        self.direccion = None\n",
    "        \n",
    "        \n",
    "class ListaEnlazada:\n",
    "    \n",
    "    def __init__(self):\n",
    "        self.encabezado = None\n",
    "        \n",
    "    def insertarInicio(self, dato):\n",
    "        nodo = Nodo(dato)\n",
    "        if not self.encabezado:\n",
    "            self.encabezado = nodo\n",
    "        else:\n",
    "            nodo.direccion = self.encabezado\n",
    "            self.encabezado = nodo\n",
    "    \n",
    "    def insertarFinal(self, dato):\n",
    "        nodo = Nodo(dato)\n",
    "        if not self.encabezado:\n",
    "            self.encabezado = nodo\n",
    "        else:\n",
    "            temporal = self.encabezado \n",
    "            while(temporal.direccion):\n",
    "                temporal = temporal.direccion\n",
    "                \n",
    "            temporal.direccion = nodo\n",
    "            \n",
    "    def Mostrar(self):\n",
    "        if self.encabezado:\n",
    "            temporal = self.encabezado\n",
    "            while(temporal):\n",
    "                print(temporal.dato)\n",
    "                print(temporal.direccion)\n",
    "                print(\"\")\n",
    "                temporal = temporal.direccion\n",
    "        else:\n",
    "            print(\"No hay encabezado\")\n",
    "        \n",
    "        \n",
    "            \n",
    "            \n",
    "            "
   ]
  },
  {
   "cell_type": "code",
   "execution_count": 17,
   "id": "2a224d9b",
   "metadata": {},
   "outputs": [
    {
     "name": "stdout",
     "output_type": "stream",
     "text": [
      "No hay encabezado\n"
     ]
    }
   ],
   "source": [
    "ListaMusica = ListaEnlazada()\n",
    "ListaMusica.Mostrar()"
   ]
  },
  {
   "cell_type": "code",
   "execution_count": 18,
   "id": "024e5b50",
   "metadata": {},
   "outputs": [
    {
     "name": "stdout",
     "output_type": "stream",
     "text": [
      "a\n",
      "None\n",
      "\n"
     ]
    }
   ],
   "source": [
    "ListaMusica.insertarInicio(\"a\")\n",
    "ListaMusica.Mostrar()"
   ]
  },
  {
   "cell_type": "code",
   "execution_count": 19,
   "id": "45fcb7e5",
   "metadata": {},
   "outputs": [
    {
     "name": "stdout",
     "output_type": "stream",
     "text": [
      "b\n",
      "<__main__.Nodo object at 0x00000249477B2D30>\n",
      "\n",
      "a\n",
      "None\n",
      "\n"
     ]
    }
   ],
   "source": [
    "ListaMusica.insertarInicio(\"b\")\n",
    "ListaMusica.Mostrar()"
   ]
  },
  {
   "cell_type": "code",
   "execution_count": 20,
   "id": "5ebe906a",
   "metadata": {},
   "outputs": [
    {
     "name": "stdout",
     "output_type": "stream",
     "text": [
      "c\n",
      "<__main__.Nodo object at 0x00000249477B26D0>\n",
      "\n",
      "b\n",
      "<__main__.Nodo object at 0x00000249477B2D30>\n",
      "\n",
      "a\n",
      "None\n",
      "\n"
     ]
    }
   ],
   "source": [
    "ListaMusica.insertarInicio(\"c\")\n",
    "ListaMusica.Mostrar()"
   ]
  },
  {
   "cell_type": "code",
   "execution_count": 21,
   "id": "2e0d0d32",
   "metadata": {},
   "outputs": [
    {
     "name": "stdout",
     "output_type": "stream",
     "text": [
      "c\n",
      "<__main__.Nodo object at 0x00000249477B26D0>\n",
      "\n",
      "b\n",
      "<__main__.Nodo object at 0x00000249477B2D30>\n",
      "\n",
      "a\n",
      "<__main__.Nodo object at 0x00000249477B2D60>\n",
      "\n",
      "d\n",
      "None\n",
      "\n"
     ]
    }
   ],
   "source": [
    "ListaMusica.insertarFinal(\"d\")\n",
    "ListaMusica.Mostrar()"
   ]
  },
  {
   "cell_type": "code",
   "execution_count": null,
   "id": "ae6e7c4b",
   "metadata": {},
   "outputs": [],
   "source": []
  }
 ],
 "metadata": {
  "kernelspec": {
   "display_name": "Python 3 (ipykernel)",
   "language": "python",
   "name": "python3"
  },
  "language_info": {
   "codemirror_mode": {
    "name": "ipython",
    "version": 3
   },
   "file_extension": ".py",
   "mimetype": "text/x-python",
   "name": "python",
   "nbconvert_exporter": "python",
   "pygments_lexer": "ipython3",
   "version": "3.9.12"
  }
 },
 "nbformat": 4,
 "nbformat_minor": 5
}
