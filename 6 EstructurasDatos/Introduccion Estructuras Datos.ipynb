{
 "cells": [
  {
   "cell_type": "code",
   "execution_count": null,
   "id": "ce565c77",
   "metadata": {},
   "outputs": [],
   "source": [
    "# # ¿Que es una estructura de datos?\n",
    "# Una estructura de datos es una manera \n",
    "# de almacenar información de tal manera que \n",
    "# podamos consultar de manera \n",
    "# rápida y eficiente"
   ]
  },
  {
   "cell_type": "code",
   "execution_count": null,
   "id": "f67f4682",
   "metadata": {},
   "outputs": [],
   "source": [
    "#Un aspecto importante a considerar\n",
    "#en una estructura de datos\n",
    "#es el tiempo y el espacio\n",
    "#a esto se le conoce como complejidad"
   ]
  },
  {
   "cell_type": "code",
   "execution_count": null,
   "id": "229d7b3d",
   "metadata": {},
   "outputs": [],
   "source": [
    "#En Python existen diferentes \n",
    "# estructuras de datos y por lo \n",
    "# tanto las podemos clasificar\n",
    "\n",
    "#En términos generales se dividen en:\n",
    "\n",
    "#Contenedores: Estructuras de \n",
    "# datos preconstruidas dentro del \n",
    "# mismo lenguaje\n",
    "\n",
    "#Definidos por el usuario: Son \n",
    "# aquellas estructuras creadas \n",
    "# por los desarrolladores"
   ]
  },
  {
   "cell_type": "code",
   "execution_count": null,
   "id": "fa28cd47",
   "metadata": {},
   "outputs": [],
   "source": [
    "# #STACK\n",
    "# Es una estructura de datos que \n",
    "# permite apilar información.\n",
    "# Sigue el principio LIFO (last in first out)\n",
    "# es decir el ultimo elemento es el primero\n",
    "# que sale\n",
    "# Nota: El principio LIFO es equivalente\n",
    "#     al principio FILO (First in last Out)"
   ]
  },
  {
   "cell_type": "code",
   "execution_count": null,
   "id": "42cd23bf",
   "metadata": {},
   "outputs": [],
   "source": [
    "# #Para crear un stack en Python \n",
    "# vamos a hacer uso de una estructura \n",
    "# de datos preconstruida"
   ]
  },
  {
   "cell_type": "code",
   "execution_count": 17,
   "id": "b5c2f855",
   "metadata": {},
   "outputs": [
    {
     "name": "stdout",
     "output_type": "stream",
     "text": [
      "True\n",
      "\n",
      "tortilla 6\n",
      "tortilla 5\n",
      "tortilla 4\n",
      "tortilla 3\n",
      "tortilla 2\n",
      "tortilla 1\n",
      "\n",
      "tortilla 5\n",
      "tortilla 4\n",
      "tortilla 3\n",
      "tortilla 2\n",
      "tortilla 1\n",
      "\n",
      "False\n",
      "\n",
      "tortilla 5\n",
      "tortilla 5\n"
     ]
    }
   ],
   "source": [
    "def mostrarPila(pila):\n",
    "    sizePila = len(pila)\n",
    "    for i in range(sizePila-1, -1, -1):\n",
    "        print(pila[i])\n",
    "\n",
    "        \n",
    "def mostrarPila2(pila):\n",
    "    sizePila = len(pila)\n",
    "    for i in reversed(range(sizePila)):\n",
    "        print(pila[i])\n",
    "    \n",
    "def isEmpty(pila):\n",
    "    if len(pila)>0:\n",
    "        return False\n",
    "    else:\n",
    "        return True\n",
    "\n",
    "pila = []\n",
    "\n",
    "print(isEmpty(pila))\n",
    "print(\"\")\n",
    "\n",
    "pila.append(\"tortilla 1\")\n",
    "pila.append(\"tortilla 2\")\n",
    "pila.append(\"tortilla 3\")\n",
    "pila.append(\"tortilla 4\")\n",
    "pila.append(\"tortilla 5\")\n",
    "pila.append(\"tortilla 6\")\n",
    "mostrarPila2(pila)\n",
    "print(\"\")\n",
    "pila.pop()\n",
    "\n",
    "# print(pila)\n",
    "mostrarPila2(pila)\n",
    "print(\"\")\n",
    "print(isEmpty(pila))\n",
    "\n",
    "print(\"\")\n",
    "print(pila[len(pila)-1])\n",
    "print(pila[-1])"
   ]
  },
  {
   "cell_type": "code",
   "execution_count": null,
   "id": "bf8f0838",
   "metadata": {},
   "outputs": [],
   "source": [
    "#Un stack consiste de operaciones \n",
    "#entre las cuales destacan:\n",
    "\n",
    "#push: para añadir elementos a la pila\n",
    "#pop: para quitar elementos en la pila\n",
    "#isEmpty para checar si la pila esta vacia\n",
    "#top: para  identificar al elemento superior"
   ]
  },
  {
   "cell_type": "code",
   "execution_count": 21,
   "id": "deb2327c",
   "metadata": {},
   "outputs": [],
   "source": [
    "class Pila:\n",
    "    \n",
    "    def __init__(self):\n",
    "        self.pila = []\n",
    "        \n",
    "    def push(self, dato):\n",
    "        self.pila.append(dato)\n",
    "        \n",
    "    def pop(self):\n",
    "        self.pila.pop()  \n",
    "    \n",
    "    def isEmpty(self):\n",
    "        if len(self.pila)>0:\n",
    "            return False\n",
    "        else:\n",
    "            return True\n",
    "    \n",
    "    def top(self):\n",
    "        return self.pila[-1]\n",
    "    \n",
    "    def  mostrar(self):\n",
    "        sizePila = len(self.pila)\n",
    "        for i in reversed(range(sizePila)):\n",
    "            print(self.pila[i])\n"
   ]
  },
  {
   "cell_type": "code",
   "execution_count": 22,
   "id": "576376e6",
   "metadata": {},
   "outputs": [
    {
     "name": "stdout",
     "output_type": "stream",
     "text": [
      "True\n",
      "\n",
      "tortilla 5\n",
      "tortilla 4\n",
      "tortilla 3\n",
      "tortilla 2\n",
      "tortilla 1\n"
     ]
    }
   ],
   "source": [
    "Tortillas = Pila()\n",
    "print(Tortillas.isEmpty())\n",
    "print(\"\")\n",
    "Tortillas.push(\"tortilla 1\")\n",
    "Tortillas.push(\"tortilla 2\")\n",
    "Tortillas.push(\"tortilla 3\")\n",
    "Tortillas.push(\"tortilla 4\")\n",
    "Tortillas.push(\"tortilla 5\")\n",
    "Tortillas.push(\"tortilla 6\")\n",
    "Tortillas.pop()\n",
    "Tortillas.mostrar()"
   ]
  },
  {
   "cell_type": "code",
   "execution_count": null,
   "id": "0c01cbe3",
   "metadata": {},
   "outputs": [],
   "source": []
  }
 ],
 "metadata": {
  "kernelspec": {
   "display_name": "Python 3 (ipykernel)",
   "language": "python",
   "name": "python3"
  },
  "language_info": {
   "codemirror_mode": {
    "name": "ipython",
    "version": 3
   },
   "file_extension": ".py",
   "mimetype": "text/x-python",
   "name": "python",
   "nbconvert_exporter": "python",
   "pygments_lexer": "ipython3",
   "version": "3.9.12"
  }
 },
 "nbformat": 4,
 "nbformat_minor": 5
}
