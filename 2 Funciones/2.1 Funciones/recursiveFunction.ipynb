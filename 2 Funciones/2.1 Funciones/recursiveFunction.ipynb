{
 "cells": [
  {
   "cell_type": "code",
   "execution_count": 3,
   "id": "8adff76f",
   "metadata": {},
   "outputs": [
    {
     "name": "stdout",
     "output_type": "stream",
     "text": [
      "Este es un mensaje recursivo\n",
      "Este es un mensaje recursivo\n",
      "Este es un mensaje recursivo\n",
      "Este es un mensaje recursivo\n",
      "Este es un mensaje recursivo\n"
     ]
    }
   ],
   "source": [
    "#Funcion recursiva\n",
    "#Función dentro de otra función\n",
    "\n",
    "def funcionRecursiva(contador):\n",
    "    \n",
    "    print(\"Este es un mensaje recursivo\")\n",
    "    contador = contador + 1\n",
    "    if contador == 5:\n",
    "        return 0\n",
    "    else:\n",
    "        funcionRecursiva(contador)\n",
    "    \n",
    "    \n",
    "funcionRecursiva(0)"
   ]
  },
  {
   "cell_type": "code",
   "execution_count": 6,
   "id": "57558d56",
   "metadata": {},
   "outputs": [
    {
     "name": "stdout",
     "output_type": "stream",
     "text": [
      "Ingrese el numero: 12\n",
      "479001600\n"
     ]
    }
   ],
   "source": [
    "#Programa para numeros factorial\n",
    "\n",
    "# 0! = 1 1\n",
    "# 1! = 1 1\n",
    "# 2! = 2 1x2\n",
    "# 3! = 6  1x2x3\n",
    "\n",
    "\n",
    "def numeroFactorial(numero):\n",
    "    if type(numero) == int and numero>=0:\n",
    "        if numero==0 or numero==1:\n",
    "            return 1\n",
    "        else:\n",
    "            return numero*numeroFactorial(numero-1)\n",
    "        \n",
    "        #3*2*1 \n",
    "\n",
    "numero = int(input(\"Ingrese el numero: \"))\n",
    "print(numeroFactorial(numero))"
   ]
  },
  {
   "cell_type": "code",
   "execution_count": null,
   "id": "a322e4a2",
   "metadata": {},
   "outputs": [],
   "source": []
  }
 ],
 "metadata": {
  "kernelspec": {
   "display_name": "Python 3 (ipykernel)",
   "language": "python",
   "name": "python3"
  },
  "language_info": {
   "codemirror_mode": {
    "name": "ipython",
    "version": 3
   },
   "file_extension": ".py",
   "mimetype": "text/x-python",
   "name": "python",
   "nbconvert_exporter": "python",
   "pygments_lexer": "ipython3",
   "version": "3.9.12"
  }
 },
 "nbformat": 4,
 "nbformat_minor": 5
}
