{
 "cells": [
  {
   "cell_type": "code",
   "execution_count": null,
   "id": "e94349e6",
   "metadata": {},
   "outputs": [],
   "source": [
    "#Una función es un bloque de código encargado de realizar una tarea específica\n",
    "#Esta caracterizada por:\n",
    "\n",
    "#Poseer parámetros y argumentos \n",
    "#Tiene un nombre / Tipo de dato\n",
    "#Código particular que resuelve una tarea específica\n",
    "#Puede retornar uno o más valores\n",
    "#Es independiente"
   ]
  },
  {
   "cell_type": "code",
   "execution_count": null,
   "id": "f80385b0",
   "metadata": {},
   "outputs": [],
   "source": [
    "#Declaracion de funcion en C/C++\n",
    "\n",
    "int sumaDos(int numero1, int numero)  #parámetros\n",
    "{\n",
    "    int suma = numero1 + numero2;\n",
    "    int suma2 = suma + 10;\n",
    "    return suma;\n",
    "}\n",
    "\n",
    "int main()\n",
    "{\n",
    "    \n",
    "#LLamado de función\n",
    "int sumaMain;\n",
    "sumaMain = sumaDos(1,2) #argumentos  \n",
    "\n",
    "}\n"
   ]
  },
  {
   "cell_type": "code",
   "execution_count": null,
   "id": "2ec03a58",
   "metadata": {},
   "outputs": [],
   "source": [
    "#Clasificacion de funciones\n",
    "\n",
    "# 1.- Funcion con argumentos y retorno de valor\n",
    "# 2.- Funcion con argumentos sin retorno de valor (realmente es un retorno de valor NULO)\n",
    "# 3.- Funcion sin argumentos y sin retorno de valor\n",
    "# 4.- Funcion sin argumentos y con retorno de valor\n"
   ]
  },
  {
   "cell_type": "code",
   "execution_count": null,
   "id": "fe227bd7",
   "metadata": {},
   "outputs": [],
   "source": [
    "#Clasificacion de funciones\n",
    "\n",
    "# 1.- Funcion con argumentos y retorno de valor\n",
    "\n",
    "def funcionArgumentosRetorno(nombre, apellido):\n",
    "    mensaje = \"Bienvenido \" + nombre + \" \" + apellido\n",
    "    return mensaje\n",
    "\n",
    "# 2.- Funcion con argumentos sin retorno de valor (realmente es un retorno de valor NULO)\n",
    "\n",
    "def funcionArgumentosSinRetorno(nombre, edad):\n",
    "    mensaje = nombre + \" tiene \" + str(edad) + \" años\" \n",
    "    print(mensaje)\n",
    "\n",
    "# 3.- Funcion sin argumentos y sin retorno de valor\n",
    "\n",
    "def funcionSinArgumentosSinRetorno():\n",
    "    mensaje = \"Esta es una funcion sin argumentos y sin retorno\" \n",
    "    print(mensaje)\n",
    "\n",
    "\n",
    "# 4.- Funcion sin argumentos y con retorno de valor\n",
    "\n",
    "def funcionSinArgumentosRetorno():\n",
    "    mensaje = \"Esta es una funcion sin argumentos con retorno\"\n",
    "    return mensaje\n",
    "\n",
    "#EJEMPLOS\n",
    "valorRetornado = funcionArgumentosRetorno(\"Carlos\", \"Cruz\")\n",
    "print(valorRetornado)\n",
    "\n",
    "funcionArgumentosSinRetorno(\"Roberto\", 50)\n",
    "\n",
    "funcionSinArgumentosSinRetorno()\n",
    "\n",
    "print(funcionSinArgumentosRetorno())"
   ]
  },
  {
   "cell_type": "code",
   "execution_count": null,
   "id": "d2d6c3ba",
   "metadata": {},
   "outputs": [],
   "source": []
  }
 ],
 "metadata": {
  "kernelspec": {
   "display_name": "Python 3",
   "language": "python",
   "name": "python3"
  },
  "language_info": {
   "codemirror_mode": {
    "name": "ipython",
    "version": 3
   },
   "file_extension": ".py",
   "mimetype": "text/x-python",
   "name": "python",
   "nbconvert_exporter": "python",
   "pygments_lexer": "ipython3",
   "version": "3.9.6"
  }
 },
 "nbformat": 4,
 "nbformat_minor": 5
}
