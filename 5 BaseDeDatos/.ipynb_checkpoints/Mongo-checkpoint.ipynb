{
 "cells": [
  {
   "cell_type": "code",
   "execution_count": 1,
   "id": "6cd71cfa",
   "metadata": {},
   "outputs": [
    {
     "name": "stdout",
     "output_type": "stream",
     "text": [
      "C:\\Users\\Panque\\Documents\\ARCHIVOS BUAP\\BUAP OTOÑO 2023\\IA\\IA-OTO2023\\5 BaseDeDatos\n"
     ]
    }
   ],
   "source": [
    "from decouple import AutoConfig\n",
    "import os\n",
    "\n",
    "print(os.getcwd())"
   ]
  },
  {
   "cell_type": "code",
   "execution_count": null,
   "id": "9ffd77ec",
   "metadata": {},
   "outputs": [],
   "source": [
    "C:\\Users\\Panque\\Documents\\ARCHIVOS BUAP\\BUAP OTOÑO 2023\\IA\\IA-OTO2023\n"
   ]
  },
  {
   "cell_type": "code",
   "execution_count": 7,
   "id": "3ce3a41e",
   "metadata": {},
   "outputs": [
    {
     "name": "stdout",
     "output_type": "stream",
     "text": [
      "BD\n",
      "user1\n",
      "pass1\n"
     ]
    }
   ],
   "source": [
    "setup = AutoConfig(os.getcwd())\n",
    "\n",
    "connectBD((setup(\"direccion\")))\n",
    "print(setup(\"usuario\"))\n",
    "print(setup(\"password\"))\n",
    "\n",
    "\n",
    "\n",
    "# direccion = \"wwww.basededatos.com\"\n",
    "# usuario = \"usuario1\"\n",
    "# password = \"pass1\"\n",
    "\n",
    "\n",
    "\n"
   ]
  },
  {
   "cell_type": "code",
   "execution_count": null,
   "id": "a1bf454d",
   "metadata": {},
   "outputs": [],
   "source": []
  }
 ],
 "metadata": {
  "kernelspec": {
   "display_name": "Python 3 (ipykernel)",
   "language": "python",
   "name": "python3"
  },
  "language_info": {
   "codemirror_mode": {
    "name": "ipython",
    "version": 3
   },
   "file_extension": ".py",
   "mimetype": "text/x-python",
   "name": "python",
   "nbconvert_exporter": "python",
   "pygments_lexer": "ipython3",
   "version": "3.9.12"
  }
 },
 "nbformat": 4,
 "nbformat_minor": 5
}
