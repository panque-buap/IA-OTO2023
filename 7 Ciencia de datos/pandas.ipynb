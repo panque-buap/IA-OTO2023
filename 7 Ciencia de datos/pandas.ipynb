{
 "cells": [
  {
   "cell_type": "code",
   "execution_count": 1,
   "id": "459c8348",
   "metadata": {},
   "outputs": [],
   "source": [
    "import pandas as pd"
   ]
  },
  {
   "cell_type": "code",
   "execution_count": 2,
   "id": "5944c3c8",
   "metadata": {},
   "outputs": [],
   "source": [
    "df = pd.read_excel(r'datos.xlsx', skiprows=1)"
   ]
  },
  {
   "cell_type": "code",
   "execution_count": 3,
   "id": "4a6aef7f",
   "metadata": {},
   "outputs": [
    {
     "data": {
      "text/html": [
       "<div>\n",
       "<style scoped>\n",
       "    .dataframe tbody tr th:only-of-type {\n",
       "        vertical-align: middle;\n",
       "    }\n",
       "\n",
       "    .dataframe tbody tr th {\n",
       "        vertical-align: top;\n",
       "    }\n",
       "\n",
       "    .dataframe thead th {\n",
       "        text-align: right;\n",
       "    }\n",
       "</style>\n",
       "<table border=\"1\" class=\"dataframe\">\n",
       "  <thead>\n",
       "    <tr style=\"text-align: right;\">\n",
       "      <th></th>\n",
       "      <th>Nombre</th>\n",
       "      <th>Apellido</th>\n",
       "      <th>Edad</th>\n",
       "      <th>ID</th>\n",
       "      <th>Ventas</th>\n",
       "      <th>Trimestre</th>\n",
       "    </tr>\n",
       "  </thead>\n",
       "  <tbody>\n",
       "    <tr>\n",
       "      <th>0</th>\n",
       "      <td>Juan</td>\n",
       "      <td>Perez</td>\n",
       "      <td>35</td>\n",
       "      <td>485976</td>\n",
       "      <td>300</td>\n",
       "      <td>1</td>\n",
       "    </tr>\n",
       "    <tr>\n",
       "      <th>1</th>\n",
       "      <td>Maria</td>\n",
       "      <td>Martinez</td>\n",
       "      <td>25</td>\n",
       "      <td>528791</td>\n",
       "      <td>500</td>\n",
       "      <td>1</td>\n",
       "    </tr>\n",
       "    <tr>\n",
       "      <th>2</th>\n",
       "      <td>Mario</td>\n",
       "      <td>Sanchez</td>\n",
       "      <td>30</td>\n",
       "      <td>471236</td>\n",
       "      <td>150</td>\n",
       "      <td>1</td>\n",
       "    </tr>\n",
       "    <tr>\n",
       "      <th>3</th>\n",
       "      <td>Juan</td>\n",
       "      <td>Perez</td>\n",
       "      <td>35</td>\n",
       "      <td>485976</td>\n",
       "      <td>250</td>\n",
       "      <td>2</td>\n",
       "    </tr>\n",
       "    <tr>\n",
       "      <th>4</th>\n",
       "      <td>Maria</td>\n",
       "      <td>Martinez</td>\n",
       "      <td>25</td>\n",
       "      <td>528791</td>\n",
       "      <td>150</td>\n",
       "      <td>2</td>\n",
       "    </tr>\n",
       "    <tr>\n",
       "      <th>5</th>\n",
       "      <td>Mario</td>\n",
       "      <td>Sanchez</td>\n",
       "      <td>30</td>\n",
       "      <td>471236</td>\n",
       "      <td>200</td>\n",
       "      <td>2</td>\n",
       "    </tr>\n",
       "  </tbody>\n",
       "</table>\n",
       "</div>"
      ],
      "text/plain": [
       "  Nombre  Apellido  Edad      ID  Ventas  Trimestre\n",
       "0   Juan     Perez    35  485976     300          1\n",
       "1  Maria  Martinez    25  528791     500          1\n",
       "2  Mario   Sanchez    30  471236     150          1\n",
       "3   Juan     Perez    35  485976     250          2\n",
       "4  Maria  Martinez    25  528791     150          2\n",
       "5  Mario   Sanchez    30  471236     200          2"
      ]
     },
     "metadata": {},
     "output_type": "display_data"
    }
   ],
   "source": [
    "display(df)"
   ]
  },
  {
   "cell_type": "code",
   "execution_count": 7,
   "id": "8cd3ad4b",
   "metadata": {},
   "outputs": [
    {
     "name": "stdout",
     "output_type": "stream",
     "text": [
      "['Juan', 'Maria', 'Mario']\n"
     ]
    }
   ],
   "source": [
    "vendedores = df[\"Nombre\"].unique().tolist()\n",
    "print(vendedores)"
   ]
  },
  {
   "cell_type": "code",
   "execution_count": null,
   "id": "cccc9127",
   "metadata": {},
   "outputs": [],
   "source": [
    "df.dtypes"
   ]
  },
  {
   "cell_type": "code",
   "execution_count": null,
   "id": "56032c78",
   "metadata": {},
   "outputs": [],
   "source": [
    "df.info()"
   ]
  },
  {
   "cell_type": "code",
   "execution_count": null,
   "id": "e58b4b9d",
   "metadata": {},
   "outputs": [],
   "source": [
    "df.describe()"
   ]
  },
  {
   "cell_type": "code",
   "execution_count": 6,
   "id": "3d4e51c2",
   "metadata": {},
   "outputs": [
    {
     "data": {
      "text/plain": [
       "0     Juan\n",
       "1    Maria\n",
       "2    Mario\n",
       "3     Juan\n",
       "4    Maria\n",
       "5    Mario\n",
       "Name: Nombre, dtype: object"
      ]
     },
     "metadata": {},
     "output_type": "display_data"
    }
   ],
   "source": [
    "display(df[\"Nombre\"])"
   ]
  },
  {
   "cell_type": "code",
   "execution_count": 13,
   "id": "6cfa46e4",
   "metadata": {},
   "outputs": [
    {
     "name": "stdout",
     "output_type": "stream",
     "text": [
      "Ingrese el nombre del vendedorMario\n",
      "Ingrese el nombre del vendedorJuan\n"
     ]
    },
    {
     "data": {
      "text/html": [
       "<div>\n",
       "<style scoped>\n",
       "    .dataframe tbody tr th:only-of-type {\n",
       "        vertical-align: middle;\n",
       "    }\n",
       "\n",
       "    .dataframe tbody tr th {\n",
       "        vertical-align: top;\n",
       "    }\n",
       "\n",
       "    .dataframe thead th {\n",
       "        text-align: right;\n",
       "    }\n",
       "</style>\n",
       "<table border=\"1\" class=\"dataframe\">\n",
       "  <thead>\n",
       "    <tr style=\"text-align: right;\">\n",
       "      <th></th>\n",
       "      <th>Nombre</th>\n",
       "      <th>Ventas</th>\n",
       "      <th>Trimestre</th>\n",
       "    </tr>\n",
       "  </thead>\n",
       "  <tbody>\n",
       "    <tr>\n",
       "      <th>0</th>\n",
       "      <td>Juan</td>\n",
       "      <td>300</td>\n",
       "      <td>1</td>\n",
       "    </tr>\n",
       "    <tr>\n",
       "      <th>1</th>\n",
       "      <td>Mario</td>\n",
       "      <td>150</td>\n",
       "      <td>1</td>\n",
       "    </tr>\n",
       "    <tr>\n",
       "      <th>2</th>\n",
       "      <td>Juan</td>\n",
       "      <td>250</td>\n",
       "      <td>2</td>\n",
       "    </tr>\n",
       "    <tr>\n",
       "      <th>3</th>\n",
       "      <td>Mario</td>\n",
       "      <td>200</td>\n",
       "      <td>2</td>\n",
       "    </tr>\n",
       "  </tbody>\n",
       "</table>\n",
       "</div>"
      ],
      "text/plain": [
       "  Nombre  Ventas  Trimestre\n",
       "0   Juan     300          1\n",
       "1  Mario     150          1\n",
       "2   Juan     250          2\n",
       "3  Mario     200          2"
      ]
     },
     "metadata": {},
     "output_type": "display_data"
    }
   ],
   "source": [
    "#Creacion de nuevo dataframe en pandas\n",
    "dfNuevo = pd.DataFrame(columns=[\"Nombre\", \"Ventas\", \"Trimestre\"]) \n",
    "\n",
    "vendedores = df[\"Nombre\"].unique().tolist()\n",
    "print(vendedores)\n",
    "\n",
    "for indice in df.index:\n",
    "    if df[\"Nombre\"][indice] == vendedor1 or df[\"Nombre\"][indice] == vendedor2:\n",
    "        \n",
    "        nuevaFila = {\n",
    "            \"Nombre\": df[\"Nombre\"][indice],\n",
    "            \"Ventas\": df[\"Ventas\"][indice],\n",
    "            \"Trimestre\": df[\"Trimestre\"][indice]\n",
    "        }\n",
    "        \n",
    "        dfNuevo.loc[len(dfNuevo)] = nuevaFila\n",
    "        \n",
    "display(dfNuevo)\n",
    "dfNuevo.to_excel(\"filtro.xlsx\")\n",
    "        \n",
    "\n",
    "        \n",
    "    \n",
    "        \n",
    "        \n",
    "    "
   ]
  },
  {
   "cell_type": "code",
   "execution_count": null,
   "id": "97beadb8",
   "metadata": {},
   "outputs": [],
   "source": []
  }
 ],
 "metadata": {
  "kernelspec": {
   "display_name": "Python 3 (ipykernel)",
   "language": "python",
   "name": "python3"
  },
  "language_info": {
   "codemirror_mode": {
    "name": "ipython",
    "version": 3
   },
   "file_extension": ".py",
   "mimetype": "text/x-python",
   "name": "python",
   "nbconvert_exporter": "python",
   "pygments_lexer": "ipython3",
   "version": "3.9.12"
  }
 },
 "nbformat": 4,
 "nbformat_minor": 5
}
