{
 "cells": [
  {
   "cell_type": "code",
   "execution_count": 17,
   "id": "673c8727",
   "metadata": {},
   "outputs": [
    {
     "name": "stdout",
     "output_type": "stream",
     "text": [
      "{'esEstudiante': False, 'matricula': 123456, 'nombre': 'Enrique', 'apellido': 'Garcia', 'materias': ['elemento finito', 'inteligencia artificial']}\n",
      "<class 'dict'>\n"
     ]
    }
   ],
   "source": [
    "#Javascript Object Notation\n",
    "\n",
    "objeto1 = {\n",
    "    \"esEstudiante\": False,\n",
    "    \"matricula\": 123456,\n",
    "    \"nombre\":  \"Enrique\",\n",
    "    \"apellido\": \"Garcia\",\n",
    "    \"materias\": [\"elemento finito\", \"inteligencia artificial\"]\n",
    "}\n",
    "\n",
    "print(objeto1)\n",
    "print(type(objeto1))"
   ]
  },
  {
   "cell_type": "code",
   "execution_count": null,
   "id": "b0a557d1",
   "metadata": {},
   "outputs": [],
   "source": [
    "#Diferencia entre diccionario (PYTHON) y formato JSON\n",
    "\n",
    "#Diccionario     JSON\n",
    "True              true\n",
    "False             false\n",
    "float, int        Number\n",
    "dict              Object\n",
    "list              array"
   ]
  },
  {
   "cell_type": "code",
   "execution_count": 10,
   "id": "7d9f16a2",
   "metadata": {},
   "outputs": [
    {
     "name": "stdout",
     "output_type": "stream",
     "text": [
      "{'esEstudiante': False, 'matricula': 123456, 'nombre': 'Enrique', 'apellido': 'García', 'materias': ['elemento finito', 'inteligencia artificial']}\n",
      "<class 'str'>\n"
     ]
    }
   ],
   "source": [
    "print(str(objeto1))\n",
    "print(type(str(objeto1)))"
   ]
  },
  {
   "cell_type": "code",
   "execution_count": 8,
   "id": "1b8409b4",
   "metadata": {},
   "outputs": [
    {
     "name": "stdout",
     "output_type": "stream",
     "text": [
      "{'matricula'\n"
     ]
    }
   ],
   "source": [
    "cadena0 = \"{\" + \"'matricula'\"\n",
    "print(cadena0)"
   ]
  },
  {
   "cell_type": "code",
   "execution_count": 12,
   "id": "fed8ac3d",
   "metadata": {},
   "outputs": [
    {
     "name": "stdout",
     "output_type": "stream",
     "text": [
      "HOLA\n",
      "adios\n"
     ]
    }
   ],
   "source": [
    "#CONVERSION ENTRE MAYUSCULA Y MINUSCULAS\n",
    "\n",
    "texto1 = \"hola\"\n",
    "print(texto1.upper())\n",
    "\n",
    "texto2 = \"ADIOS\"\n",
    "print(texto2.lower())"
   ]
  },
  {
   "cell_type": "code",
   "execution_count": 19,
   "id": "89287255",
   "metadata": {},
   "outputs": [
    {
     "name": "stdout",
     "output_type": "stream",
     "text": [
      "{'esEstudiante': False, 'matricula': 123456, 'nombre': 'Enrique', 'apellido': 'Garcia', 'materias': ['elemento finito', 'inteligencia artificial']}\n",
      "<class 'dict'>\n",
      "\n",
      "{\"esEstudiante\": false, \"matricula\": 123456, \"nombre\": \"Enrique\", \"apellido\": \"Garcia\", \"materias\": [\"elemento finito\", \"inteligencia artificial\"]}\n",
      "<class 'str'>\n",
      "\n",
      "{'esEstudiante': False, 'matricula': 123456, 'nombre': 'Enrique', 'apellido': 'Garcia', 'materias': ['elemento finito', 'inteligencia artificial']}\n",
      "<class 'dict'>\n"
     ]
    }
   ],
   "source": [
    "import json \n",
    "\n",
    "print(objeto1)\n",
    "print(type(objeto1))\n",
    "print(\"\")\n",
    "#Convertir de diccionario a texto JSON\n",
    "objeto1JSON = json.dumps(objeto1)\n",
    "print(objeto1JSON)\n",
    "print(type(objeto1JSON))\n",
    "\n",
    "print(\"\")\n",
    "\n",
    "#Convertir texto JSON a diccionario \n",
    "objeto1Diccionario = json.loads(objeto1JSON)\n",
    "print(objeto1Diccionario)\n",
    "print(type(objeto1Diccionario))"
   ]
  },
  {
   "cell_type": "code",
   "execution_count": null,
   "id": "ab799491",
   "metadata": {},
   "outputs": [],
   "source": []
  }
 ],
 "metadata": {
  "kernelspec": {
   "display_name": "Python 3 (ipykernel)",
   "language": "python",
   "name": "python3"
  },
  "language_info": {
   "codemirror_mode": {
    "name": "ipython",
    "version": 3
   },
   "file_extension": ".py",
   "mimetype": "text/x-python",
   "name": "python",
   "nbconvert_exporter": "python",
   "pygments_lexer": "ipython3",
   "version": "3.9.12"
  }
 },
 "nbformat": 4,
 "nbformat_minor": 5
}
