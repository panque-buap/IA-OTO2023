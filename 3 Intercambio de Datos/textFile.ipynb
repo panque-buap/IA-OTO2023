{
 "cells": [
  {
   "cell_type": "code",
   "execution_count": 1,
   "id": "a2128ba0",
   "metadata": {},
   "outputs": [
    {
     "name": "stdout",
     "output_type": "stream",
     "text": [
      "Programa terminado\n"
     ]
    }
   ],
   "source": [
    "path = \"ArchivoTexto1.txt\"\n",
    "message  = \"Mensaje a guardar en el archivo de texto\"\n",
    "\n",
    "file = open(path,\"w\") #Abrir o crear archivo de texto\n",
    "file.write(message) #Escribir archivo\n",
    "file.close() #Cerrar archivo\n",
    "\n",
    "print(\"Programa terminado\")"
   ]
  },
  {
   "cell_type": "code",
   "execution_count": null,
   "id": "78c57f01",
   "metadata": {},
   "outputs": [],
   "source": []
  }
 ],
 "metadata": {
  "kernelspec": {
   "display_name": "Python 3 (ipykernel)",
   "language": "python",
   "name": "python3"
  },
  "language_info": {
   "codemirror_mode": {
    "name": "ipython",
    "version": 3
   },
   "file_extension": ".py",
   "mimetype": "text/x-python",
   "name": "python",
   "nbconvert_exporter": "python",
   "pygments_lexer": "ipython3",
   "version": "3.9.12"
  }
 },
 "nbformat": 4,
 "nbformat_minor": 5
}
