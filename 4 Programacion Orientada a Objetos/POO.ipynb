{
 "cells": [
  {
   "cell_type": "code",
   "execution_count": 1,
   "id": "f88047e3",
   "metadata": {},
   "outputs": [
    {
     "name": "stdout",
     "output_type": "stream",
     "text": [
      "<class 'int'>\n"
     ]
    }
   ],
   "source": [
    "numero = 5 \n",
    "print(type(numero))"
   ]
  },
  {
   "cell_type": "code",
   "execution_count": 2,
   "id": "c716369b",
   "metadata": {},
   "outputs": [
    {
     "name": "stdout",
     "output_type": "stream",
     "text": [
      "<class 'bool'>\n"
     ]
    }
   ],
   "source": [
    "booleano = True\n",
    "print(type(booleano))"
   ]
  },
  {
   "cell_type": "code",
   "execution_count": null,
   "id": "cfa95bc0",
   "metadata": {},
   "outputs": [],
   "source": [
    "# ¿Que és una clase?\n",
    "\n",
    "#Paradigma Programación Orientada  a Objetos\n",
    "\n",
    "#Atributo: Característica individual \n",
    "#de un personaje que representa su apariencia\n",
    "#sus cualidades, su estado, etc..\n",
    "\n",
    "\n",
    "def Caminar(posPersonaje, nombrePersonaje):\n",
    "    if(botonMoverVideojuego):\n",
    "    posXPersonaje = posXPersonaje+1\n",
    "\n",
    "def Volar():\n",
    "    pass\n",
    "\n",
    "nombrePersonaje=input(\"Ingrese Personaje\": )\n",
    "\n",
    "nombrePersonaje = \"Yoshi\"\n",
    "colorPersonaje1 = \"Verde\"\n",
    "saludPersonaje1 = 100\n",
    "poderAtaquePersonaje1 = 150\n",
    "posXPersonaje1 = 0\n",
    "posYPersonaje1 =  0\n",
    "\n",
    "Caminar(posXPersonaje3, \"Luigi\")\n",
    "Volar()\n",
    "\n",
    "nombrePersonaje = \"Mario\"\n",
    "colorPersonaje2 = \"Rojo\"\n",
    "saludPersonaje2 = 200\n",
    "poderAtaquePersonaje2 = 100\n",
    "\n"
   ]
  },
  {
   "cell_type": "code",
   "execution_count": 11,
   "id": "a174aff7",
   "metadata": {},
   "outputs": [
    {
     "name": "stdout",
     "output_type": "stream",
     "text": [
      "Yoshi\n"
     ]
    }
   ],
   "source": [
    "#Una clase no es más que una plantilla\n",
    "\n",
    "class PersonajeDeVideojuego:\n",
    "    \n",
    "    def __init__(objeto, nombreParametro):\n",
    "        objeto.nombre = nombreParametro\n",
    "    \n",
    "    color = \"sinColor\"\n",
    "    salud = 100\n",
    "    poderAtaque = 100\n",
    "    posX = 0\n",
    "    poxY = 0\n",
    "    \n",
    "Personaje1 = PersonajeDeVideojuego(\"Yoshi\")\n",
    "Personaje2 = PersonajeDeVideojuego(\"Mario\")\n",
    "\n",
    "print(Personaje1.nombre)\n",
    "\n",
    "#Con 1 personaje tengo 5 variables\n",
    "#Con 50 personajes tengo 250 variables\n",
    "#58 lineas de codigo con la clae\n",
    "\n",
    "\n",
    "    "
   ]
  },
  {
   "cell_type": "code",
   "execution_count": 4,
   "id": "7ca7f630",
   "metadata": {},
   "outputs": [
    {
     "ename": "TypeError",
     "evalue": "funcion1() takes 1 positional argument but 2 were given",
     "output_type": "error",
     "traceback": [
      "\u001b[1;31m---------------------------------------------------------------------------\u001b[0m",
      "\u001b[1;31mTypeError\u001b[0m                                 Traceback (most recent call last)",
      "Input \u001b[1;32mIn [4]\u001b[0m, in \u001b[0;36m<cell line: 4>\u001b[1;34m()\u001b[0m\n\u001b[0;32m      1\u001b[0m \u001b[38;5;28;01mdef\u001b[39;00m \u001b[38;5;21mfuncion1\u001b[39m(dato1):\n\u001b[0;32m      2\u001b[0m     \u001b[38;5;28;01mpass\u001b[39;00m\n\u001b[1;32m----> 4\u001b[0m \u001b[43mfuncion1\u001b[49m\u001b[43m(\u001b[49m\u001b[38;5;124;43m\"\u001b[39;49m\u001b[38;5;124;43mdato1\u001b[39;49m\u001b[38;5;124;43m\"\u001b[39;49m\u001b[43m,\u001b[49m\u001b[43m \u001b[49m\u001b[38;5;124;43m\"\u001b[39;49m\u001b[38;5;124;43mdato2\u001b[39;49m\u001b[38;5;124;43m\"\u001b[39;49m\u001b[43m)\u001b[49m\n",
      "\u001b[1;31mTypeError\u001b[0m: funcion1() takes 1 positional argument but 2 were given"
     ]
    }
   ],
   "source": [
    "def funcion1(dato1):\n",
    "    pass\n",
    "\n",
    "funcion1(\"dato1\", \"dato2\")"
   ]
  },
  {
   "cell_type": "code",
   "execution_count": null,
   "id": "3c9e68ce",
   "metadata": {},
   "outputs": [],
   "source": []
  }
 ],
 "metadata": {
  "kernelspec": {
   "display_name": "Python 3 (ipykernel)",
   "language": "python",
   "name": "python3"
  },
  "language_info": {
   "codemirror_mode": {
    "name": "ipython",
    "version": 3
   },
   "file_extension": ".py",
   "mimetype": "text/x-python",
   "name": "python",
   "nbconvert_exporter": "python",
   "pygments_lexer": "ipython3",
   "version": "3.9.12"
  }
 },
 "nbformat": 4,
 "nbformat_minor": 5
}
