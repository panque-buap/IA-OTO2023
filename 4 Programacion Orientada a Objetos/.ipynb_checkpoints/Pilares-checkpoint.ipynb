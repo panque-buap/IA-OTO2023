{
 "cells": [
  {
   "cell_type": "code",
   "execution_count": null,
   "id": "e2779ea6",
   "metadata": {},
   "outputs": [],
   "source": [
    "#En la programación orientada a objetos \n",
    "#existen 4 pilares principales:\n",
    "#Entendiendose como pilar a un principio base que \n",
    "#permite generar un condigo limpio y conciso.\n",
    "\n",
    "#1.- Abstracción\n",
    "#2.- Encapsulado\n",
    "#3.- Herencia\n",
    "#4.- Polimorfismo\n"
   ]
  },
  {
   "cell_type": "code",
   "execution_count": null,
   "id": "ae1b0eff",
   "metadata": {},
   "outputs": [],
   "source": [
    "#1.- Abstracción\n",
    "\n",
    "class Personajes:\n",
    "    pass"
   ]
  },
  {
   "cell_type": "code",
   "execution_count": null,
   "id": "779348f0",
   "metadata": {},
   "outputs": [],
   "source": [
    "#2.- Encapsulado\n",
    "#Accion de generar atributos y métodos para los objetos\n",
    "class Personajes:\n",
    "    \n",
    "    def __init__(self, salud, nombre, posX):\n",
    "        self.salud = salud\n",
    "        self.nombre = nombre\n",
    "        self.posX = posX\n",
    "    \n",
    "    def caminar(self):\n",
    "        self.posX = self.posX + 1\n",
    "    \n",
    "personaje1 = Personaje(100,\"Yoshi\",0)\n",
    "        "
   ]
  },
  {
   "cell_type": "code",
   "execution_count": 28,
   "id": "5a137df7",
   "metadata": {},
   "outputs": [],
   "source": [
    "# 3.-Herencia\n",
    "class Personaje:\n",
    "    \n",
    "    def __init__(self, salud, nombre, posX):\n",
    "        self.salud = salud\n",
    "        self.nombre = nombre\n",
    "        self.posX = posX\n",
    "    \n",
    "    def caminar(self):\n",
    "        self.posX = self.posX + 1\n",
    "\n",
    "class PersonajeOscuro(Personaje):\n",
    "    \n",
    "    def __init__(self, salud, nombre, posX, magia):\n",
    "        super().__init__(salud, nombre, posX)\n",
    "        self.magia = magia\n",
    "        \n",
    "    def AtaqueOscuro(self):\n",
    "        print(\"Ataque especial de personaje oscuro\")\n",
    "        \n",
    "    \n",
    "\n",
    "class PersonajeAnimal(Personaje):\n",
    "    def __init__(self, salud, nombre, posX, instinto):\n",
    "        super().__init__(salud, nombre, posX)\n",
    "        self.instinto = instinto\n",
    "        \n",
    "    def AtaqueAnimal(self):\n",
    "        print(\"Ataque especial de personaje animal\")\n",
    "        \n",
    "\n",
    "class PersonajeHumano():\n",
    "    pass\n",
    "    \n",
    "    \n",
    "    "
   ]
  },
  {
   "cell_type": "code",
   "execution_count": 25,
   "id": "6d066c70",
   "metadata": {},
   "outputs": [],
   "source": [
    "personaje1 = Personaje(100,\"Yoshi\",0)\n"
   ]
  },
  {
   "cell_type": "code",
   "execution_count": 26,
   "id": "da0a5d59",
   "metadata": {},
   "outputs": [
    {
     "name": "stdout",
     "output_type": "stream",
     "text": [
      "1\n",
      "Ataque especial de personaje oscuro\n"
     ]
    }
   ],
   "source": [
    "personajeOscuro1 = PersonajeOscuro(150, \"Mago\", 0, 100)\n",
    "personajeOscuro1.caminar()\n",
    "print(personajeOscuro1.posX)\n",
    "personajeOscuro1.AtaqueOscuro()\n"
   ]
  },
  {
   "cell_type": "code",
   "execution_count": 30,
   "id": "338eebef",
   "metadata": {},
   "outputs": [
    {
     "name": "stdout",
     "output_type": "stream",
     "text": [
      "Ataque especial de personaje animal\n"
     ]
    }
   ],
   "source": [
    "personajeAnimal1 = PersonajeAnimal(150, \"Mago\", 0, 200)\n",
    "personajeAnimal1.AtaqueAnimal()"
   ]
  },
  {
   "cell_type": "code",
   "execution_count": 31,
   "id": "8a5b34ed",
   "metadata": {},
   "outputs": [],
   "source": [
    "#4.- Polimorfismo\n",
    "\n",
    "class Personaje:\n",
    "    \n",
    "    def __init__(self, salud, nombre, posX):\n",
    "        self.salud = salud\n",
    "        self.nombre = nombre\n",
    "        self.posX = posX\n",
    "    \n",
    "    def caminar(self):\n",
    "        self.posX = self.posX + 1\n",
    "\n",
    "class PersonajeOscuro(Personaje):\n",
    "    \n",
    "    def __init__(self, salud, nombre, posX, magia):\n",
    "        super().__init__(salud, nombre, posX)\n",
    "        self.magia = magia\n",
    "        \n",
    "    def AtaqueOscuro(self):\n",
    "        print(\"Ataque oscuro de personaje oscuro\")\n",
    "        \n",
    "    def AtaqueEspecial(self):\n",
    "        print(\"Ataque especial oscuro\")\n",
    "        \n",
    "    \n",
    "\n",
    "class PersonajeAnimal(Personaje):\n",
    "    def __init__(self, salud, nombre, posX, instinto):\n",
    "        super().__init__(salud, nombre, posX)\n",
    "        self.instinto = instinto\n",
    "        \n",
    "    def AtaqueAnimal(self):\n",
    "        print(\"Ataque animal de personaje animal\")\n",
    "        \n",
    "    def AtaqueEspecial(self):\n",
    "        print(\"Ataque especial animal\")\n",
    "        \n",
    "\n",
    "class PersonajeHumano():\n",
    "    pass\n",
    "    \n"
   ]
  },
  {
   "cell_type": "code",
   "execution_count": 32,
   "id": "c510fc7a",
   "metadata": {},
   "outputs": [],
   "source": [
    "personajeAnimal1 = PersonajeAnimal(100, \"Leon\", 0, 150)\n",
    "personajeOscuro1 = PersonajeOscuro(100, \"Mago\", 0, 170)"
   ]
  },
  {
   "cell_type": "code",
   "execution_count": 37,
   "id": "06e068d1",
   "metadata": {},
   "outputs": [
    {
     "name": "stdout",
     "output_type": "stream",
     "text": [
      "150\n"
     ]
    }
   ],
   "source": [
    "try:\n",
    "    print(personajeAnimal1.instinto)\n",
    "except AttributeError:\n",
    "    print(\"Este personaje no tiene ese atributo\")"
   ]
  },
  {
   "cell_type": "code",
   "execution_count": 39,
   "id": "5adb8aa3",
   "metadata": {},
   "outputs": [
    {
     "name": "stdout",
     "output_type": "stream",
     "text": [
      "Ataque especial oscuro\n"
     ]
    }
   ],
   "source": [
    "personajeOscuro1.AtaqueEspecial()"
   ]
  },
  {
   "cell_type": "code",
   "execution_count": null,
   "id": "28030a1e",
   "metadata": {},
   "outputs": [],
   "source": []
  }
 ],
 "metadata": {
  "kernelspec": {
   "display_name": "Python 3 (ipykernel)",
   "language": "python",
   "name": "python3"
  },
  "language_info": {
   "codemirror_mode": {
    "name": "ipython",
    "version": 3
   },
   "file_extension": ".py",
   "mimetype": "text/x-python",
   "name": "python",
   "nbconvert_exporter": "python",
   "pygments_lexer": "ipython3",
   "version": "3.9.12"
  }
 },
 "nbformat": 4,
 "nbformat_minor": 5
}
