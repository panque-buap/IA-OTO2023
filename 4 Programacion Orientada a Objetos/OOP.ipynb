{
 "cells": [
  {
   "cell_type": "code",
   "execution_count": null,
   "id": "789fc8d9",
   "metadata": {},
   "outputs": [],
   "source": [
    "#La programación orientada a objetos es una forma de desarrollar un programa\n",
    "#El objetivo de la POO es crear objetos (elementos individuales que comparten \n",
    "#caracteristicas a la hora de programar)\n"
   ]
  },
  {
   "cell_type": "code",
   "execution_count": 46,
   "id": "bb1477b9",
   "metadata": {},
   "outputs": [],
   "source": [
    "class Personajes:\n",
    "    \n",
    "    size = 10 \n",
    "    #atributo global\n",
    "    \n",
    "    def __init__(self, puntosSalud, nombre, posX, posY):   #Toda funcion dentro de una clase se denomina métódo\n",
    "        #atributos locales\n",
    "        self.puntosSalud =puntosSalud\n",
    "        self.nombre = nombre\n",
    "        self.posX = posX\n",
    "        self.posY = posY\n",
    "    \n",
    "    def caminar(self):\n",
    "        self.posX = self.posX + 1\n",
    "        print(\"Caminando\")\n",
    "    \n",
    "    pass\n",
    "    #atributo local\n",
    "    #puntosSalud\n",
    "    #nombre\n",
    "    #posicionX\n",
    "    #posicionY\n",
    "    #funcionalidad\n",
    "    \n",
    "\n",
    "class Enemigos:\n",
    "    pass\n",
    "\n",
    "class Mundos:\n",
    "    pass\n",
    "    #dimensiones\n",
    "    #fondo\n",
    "    #tipoTerreno\n"
   ]
  },
  {
   "cell_type": "code",
   "execution_count": 47,
   "id": "2fa749db",
   "metadata": {},
   "outputs": [
    {
     "name": "stdout",
     "output_type": "stream",
     "text": [
      "150\n"
     ]
    }
   ],
   "source": [
    "objeto1 =  Personajes(100, \"Yoshi\", 0, 0)\n",
    "objeto2 =  Personajes(150, \"Mario\", 0, 0)\n",
    "objeto3 =  Personajes(50, \"Peach\", 0, 0)\n",
    "\n",
    "# objeto3 =  Personajes(100)\n",
    "#imprimir los puntos de salud del personaje1\n",
    "print(objeto2.puntosSalud)"
   ]
  },
  {
   "cell_type": "code",
   "execution_count": null,
   "id": "ca66c817",
   "metadata": {},
   "outputs": [],
   "source": []
  },
  {
   "cell_type": "code",
   "execution_count": 48,
   "id": "5bac7331",
   "metadata": {},
   "outputs": [
    {
     "name": "stdout",
     "output_type": "stream",
     "text": [
      "Caminando\n",
      "Caminando\n",
      "Caminando\n",
      "3\n"
     ]
    }
   ],
   "source": [
    "objeto1.caminar()\n",
    "objeto1.caminar()\n",
    "objeto1.caminar()\n",
    "print(objeto1.posX)"
   ]
  },
  {
   "cell_type": "code",
   "execution_count": null,
   "id": "516a6fd0",
   "metadata": {},
   "outputs": [],
   "source": [
    "puntosSaludPers1 = 100\n",
    "puntosSaludPers2 = 150\n"
   ]
  },
  {
   "cell_type": "code",
   "execution_count": null,
   "id": "6ed39702",
   "metadata": {},
   "outputs": [],
   "source": [
    "def funcion1(valor1):\n",
    "    pass\n",
    "\n",
    "funcion1(10)"
   ]
  }
 ],
 "metadata": {
  "kernelspec": {
   "display_name": "Python 3 (ipykernel)",
   "language": "python",
   "name": "python3"
  },
  "language_info": {
   "codemirror_mode": {
    "name": "ipython",
    "version": 3
   },
   "file_extension": ".py",
   "mimetype": "text/x-python",
   "name": "python",
   "nbconvert_exporter": "python",
   "pygments_lexer": "ipython3",
   "version": "3.9.12"
  }
 },
 "nbformat": 4,
 "nbformat_minor": 5
}
