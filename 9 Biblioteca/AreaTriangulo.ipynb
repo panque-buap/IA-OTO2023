{
 "cells": [
  {
   "cell_type": "code",
   "execution_count": 4,
   "id": "67237e5c",
   "metadata": {},
   "outputs": [],
   "source": [
    "class Triangulo:\n",
    "    def __init__(self, base, altura):\n",
    "        self.base = base\n",
    "        self.altura = altura\n",
    "        \n",
    "    def calcularArea(self):\n",
    "        area = (self.base*self.altura)/2\n",
    "        return area"
   ]
  },
  {
   "cell_type": "code",
   "execution_count": 5,
   "id": "1ca7a17c",
   "metadata": {},
   "outputs": [
    {
     "data": {
      "text/plain": [
       "15.0"
      ]
     },
     "execution_count": 5,
     "metadata": {},
     "output_type": "execute_result"
    }
   ],
   "source": [
    "triangulo1 = Triangulo(5,6)\n",
    "triangulo1.calcularArea()"
   ]
  },
  {
   "cell_type": "code",
   "execution_count": null,
   "id": "b1e0958e",
   "metadata": {},
   "outputs": [],
   "source": []
  }
 ],
 "metadata": {
  "kernelspec": {
   "display_name": "Python 3 (ipykernel)",
   "language": "python",
   "name": "python3"
  },
  "language_info": {
   "codemirror_mode": {
    "name": "ipython",
    "version": 3
   },
   "file_extension": ".py",
   "mimetype": "text/x-python",
   "name": "python",
   "nbconvert_exporter": "python",
   "pygments_lexer": "ipython3",
   "version": "3.9.12"
  }
 },
 "nbformat": 4,
 "nbformat_minor": 5
}
