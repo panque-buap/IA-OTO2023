{
 "cells": [
  {
   "cell_type": "code",
   "execution_count": 2,
   "id": "ad441359",
   "metadata": {},
   "outputs": [],
   "source": [
    "import pandas\n",
    "import AreaTriangulo"
   ]
  },
  {
   "cell_type": "code",
   "execution_count": 3,
   "id": "28b0147b",
   "metadata": {},
   "outputs": [],
   "source": [
    "from AreaTriangulo import Triangulo"
   ]
  },
  {
   "cell_type": "code",
   "execution_count": 4,
   "id": "13afe37d",
   "metadata": {},
   "outputs": [
    {
     "name": "stdout",
     "output_type": "stream",
     "text": [
      "15.0\n"
     ]
    }
   ],
   "source": [
    "triangulo2 = Triangulo(5,6)\n",
    "print(triangulo2.calcularArea())"
   ]
  },
  {
   "cell_type": "code",
   "execution_count": null,
   "id": "8d0a553a",
   "metadata": {},
   "outputs": [],
   "source": [
    "pandas.Triangulo "
   ]
  }
 ],
 "metadata": {
  "kernelspec": {
   "display_name": "Python 3 (ipykernel)",
   "language": "python",
   "name": "python3"
  },
  "language_info": {
   "codemirror_mode": {
    "name": "ipython",
    "version": 3
   },
   "file_extension": ".py",
   "mimetype": "text/x-python",
   "name": "python",
   "nbconvert_exporter": "python",
   "pygments_lexer": "ipython3",
   "version": "3.9.12"
  }
 },
 "nbformat": 4,
 "nbformat_minor": 5
}
