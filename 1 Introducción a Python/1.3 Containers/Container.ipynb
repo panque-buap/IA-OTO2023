{
 "cells": [
  {
   "cell_type": "code",
   "execution_count": null,
   "id": "6ab3bbff",
   "metadata": {},
   "outputs": [],
   "source": [
    "#Un contenedor es una estructura de datos que se encuentra de forma \n",
    "#predeterminada en el lenguaje de programación (Python )\n",
    "\n",
    "#Estructura de datos: Se define de forma simple como la manera en la \n",
    "#que vamos a organizar información.\n",
    "\n",
    "\n",
    "#CONTENEDORES\n",
    "#listas\n",
    "#tuplas\n",
    "#diccionarios\n",
    "#conjuntos "
   ]
  },
  {
   "cell_type": "code",
   "execution_count": null,
   "id": "8ddbb52b",
   "metadata": {},
   "outputs": [],
   "source": [
    "#Contenedor 1: Lista\n",
    "#Características:  \n",
    "    # Es mutable (que puede cambiar)\n",
    "    # Tiene un orden (accedemos a los valores mediante el uso de indices)\n",
    "    # Permite tener elementos duplicados\n",
    "\n",
    "lista = list([5,2,3,4,1])\n",
    "print(lista)\n",
    "print(type(lista))\n",
    "\n",
    "lista2 = [6,7,8,9,10]\n",
    "lista2 = [11,12,13,12,13,12,13,12,13]\n",
    "\n",
    "lista2[0] = 20\n",
    "\n",
    "print(lista2[0])\n",
    "print(lista2)\n",
    "print(type(lista2))\n",
    "\n",
    "listaDatos = [1,2,3, 'a', 'b', \"Hola mundo\", False, [1,'a']]\n",
    "print(listaDatos)\n",
    "print(listaDatos[5])"
   ]
  },
  {
   "cell_type": "code",
   "execution_count": null,
   "id": "36894b4f",
   "metadata": {},
   "outputs": [],
   "source": [
    "#Contenedor 2: Tupla\n",
    "#Características:  \n",
    "    # Es NO mutable (NO puede cambiar)\n",
    "    # Tiene un orden (accedemos a los valores mediante el uso de indices)\n",
    "    # Permite tener elementos duplicados\n",
    "\n",
    "tupla = tuple([1,2,3])\n",
    "print(tupla)\n",
    "\n",
    "tupla2 = (4,5,6,4,5,6, 'a')\n",
    "print(tupla2)\n",
    "\n",
    "print(tupla2[2])\n",
    "\n",
    "tupla2 = (1,2,3,4,5,6)\n",
    "# tupla2[0]=10\n",
    "print(tupla2)"
   ]
  },
  {
   "cell_type": "code",
   "execution_count": null,
   "id": "a2272449",
   "metadata": {},
   "outputs": [],
   "source": [
    "#Contenedor 3: Conjunto\n",
    "#Características:  \n",
    "    # Es mutable (puede cambiar)\n",
    "    # NO tiene un orden (NO accedemos a los valores mediante el uso de indices)\n",
    "    # NO Permite tener elementos duplicados\n",
    "\n",
    "conjunto = set([1,2,3,4])\n",
    "print(conjunto)\n",
    "\n",
    "conjunto2 = {5,6,7,8,5,6,7,8,5,6,7,8}\n",
    "print(conjunto2)\n",
    "\n",
    "conjunto3 = {9,12}\n",
    "conjunto2.update(conjunto3)\n",
    "print(conjunto2)"
   ]
  },
  {
   "cell_type": "code",
   "execution_count": null,
   "id": "7b3f22b8",
   "metadata": {},
   "outputs": [],
   "source": [
    "#Contenedor 4: Diccionario\n",
    "\n",
    "#Libro con la definición de palabra en orden alfabético\n",
    "#cada palabra tiene su significado (tiene un par  llave:valor)\n",
    "\n",
    "diccionario = dict([(\"cuadro\",\"figura geometrica de 4 lados\"),\n",
    "                    (\"triangulo\",\"figura geometrica de 3 lados\"),\n",
    "                    (\"pentagono\",\"figura geometrica de 5 lados\")])\n",
    "print(diccionario)\n",
    "\n",
    "diccionario2 = {\"triangulo2\":\"figura geometrica de 3 lados\",\n",
    "                \"cuadro2\":\"figura geometrica de 4 lados\",\n",
    "                \"pentagono2\":\"figura geometrica de 5 lados\",\n",
    "                \"cuadro2\":\"figura2 geometrica de 4 lados\",\n",
    "                }\n",
    "print(diccionario2)\n",
    "\n",
    "#Características:  \n",
    "    # Es mutable (puede cambiar)\n",
    "    # SI tiene un orden (NO accedemos a los valores mediante el uso de indices,\n",
    "    #                    accedemos a los valores mediante una llave )\n",
    "    # NO Permite tener elementos duplicados\n",
    "print(diccionario2[\"triangulo2\"])\n",
    "\n",
    "diccionario2[\"cuadro2\"] = \"poligono de 4 lados\"\n",
    "print(diccionario2)"
   ]
  }
 ],
 "metadata": {
  "kernelspec": {
   "display_name": "Python 3",
   "language": "python",
   "name": "python3"
  },
  "language_info": {
   "codemirror_mode": {
    "name": "ipython",
    "version": 3
   },
   "file_extension": ".py",
   "mimetype": "text/x-python",
   "name": "python",
   "nbconvert_exporter": "python",
   "pygments_lexer": "ipython3",
   "version": "3.9.6"
  }
 },
 "nbformat": 4,
 "nbformat_minor": 5
}
