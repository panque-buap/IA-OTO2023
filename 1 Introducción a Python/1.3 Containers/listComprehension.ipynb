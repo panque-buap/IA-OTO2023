{
 "cells": [
  {
   "cell_type": "code",
   "execution_count": 2,
   "id": "aa6b850c",
   "metadata": {},
   "outputs": [
    {
     "name": "stdout",
     "output_type": "stream",
     "text": [
      "['C', 'C++']\n"
     ]
    }
   ],
   "source": [
    "#Sintaxis para crear una lista nueva con valores de una existente \n",
    "#Es un medio de definir y crear listas nuevas basadas en existentes\n",
    "\n",
    "lenguajesProgramacion = [\"C\", \"C++\", \"Java\", \"Python\"]\n",
    "nuevaLista = []\n",
    "\n",
    "for lenguaje in lenguajesProgramacion:\n",
    "    if \"C\" in lenguaje:\n",
    "        nuevaLista.append(lenguaje)\n",
    "        \n",
    "        \n",
    "print(nuevaLista)"
   ]
  },
  {
   "cell_type": "code",
   "execution_count": 6,
   "id": "c033e3d3",
   "metadata": {},
   "outputs": [
    {
     "name": "stdout",
     "output_type": "stream",
     "text": [
      "['C', 'C++']\n"
     ]
    }
   ],
   "source": [
    "lenguajesProgramacion = [\"C\", \"C++\", \"Java\", \"Python\"]\n",
    "nuevaLista = [lenguaje for lenguaje in lenguajesProgramacion if \"C\" in lenguaje]\n",
    "print(nuevaLista)"
   ]
  },
  {
   "cell_type": "code",
   "execution_count": null,
   "id": "d7bedfd2",
   "metadata": {},
   "outputs": [],
   "source": []
  }
 ],
 "metadata": {
  "kernelspec": {
   "display_name": "Python 3 (ipykernel)",
   "language": "python",
   "name": "python3"
  },
  "language_info": {
   "codemirror_mode": {
    "name": "ipython",
    "version": 3
   },
   "file_extension": ".py",
   "mimetype": "text/x-python",
   "name": "python",
   "nbconvert_exporter": "python",
   "pygments_lexer": "ipython3",
   "version": "3.9.12"
  }
 },
 "nbformat": 4,
 "nbformat_minor": 5
}
