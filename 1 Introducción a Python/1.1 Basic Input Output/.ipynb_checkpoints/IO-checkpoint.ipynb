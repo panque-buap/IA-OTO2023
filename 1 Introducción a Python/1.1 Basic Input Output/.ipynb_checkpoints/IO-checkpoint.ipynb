{
 "cells": [
  {
   "cell_type": "code",
   "execution_count": 1,
   "id": "e6c6904e",
   "metadata": {},
   "outputs": [
    {
     "name": "stdout",
     "output_type": "stream",
     "text": [
      "Hola Mundo\n",
      "dato1 dato2 dato3\n",
      "Hola mundo/dato1-dato2-dato3\n"
     ]
    }
   ],
   "source": [
    "#Impresión en consola\n",
    "print(\"Hola Mundo\")\n",
    "\n",
    "#Impresión en consola de múltiples datos\n",
    "print(\"dato1\", \"dato2\", \"dato3\")\n",
    "\n",
    "# Comentario \n",
    "#De forma predeterminada Python utiliza espacios en blanco como separador\n",
    "#y al término de la función agrega un salto de línea \\n\n",
    "\n",
    "#Es posible modificar estos parámetros\n",
    "print(\"Hola mundo\", end=\"/\")\n",
    "print(\"dato1\", \"dato2\", \"dato3\", sep=\"-\")\n"
   ]
  },
  {
   "cell_type": "code",
   "execution_count": null,
   "id": "adbe6333",
   "metadata": {},
   "outputs": [],
   "source": [
    "#La función print acepta 5 parámetros en su sintaxis\n",
    "# print(value, ..., sep=' ', end='\\n', file=sys.stdout, flush=False)\n",
    "print()"
   ]
  },
  {
   "cell_type": "code",
   "execution_count": 6,
   "id": "79280abf",
   "metadata": {},
   "outputs": [
    {
     "name": "stdout",
     "output_type": "stream",
     "text": [
      "El número a imprimir en pantalla es: 10\n",
      "El número a imprimir en pantalla es: 10\n",
      "El número a imprimir en pantalla es: 10\n"
     ]
    }
   ],
   "source": [
    "#Formato en salida \n",
    "numero = 10\n",
    "print(\"El número a imprimir en pantalla es:\",numero)\n",
    "print(\"El número a imprimir en pantalla es: {}\".format(numero))\n",
    "print(f\"El número a imprimir en pantalla es: {numero}\")"
   ]
  },
  {
   "cell_type": "code",
   "execution_count": null,
   "id": "4ec2bfca",
   "metadata": {},
   "outputs": [],
   "source": []
  }
 ],
 "metadata": {
  "kernelspec": {
   "display_name": "Python 3",
   "language": "python",
   "name": "python3"
  },
  "language_info": {
   "codemirror_mode": {
    "name": "ipython",
    "version": 3
   },
   "file_extension": ".py",
   "mimetype": "text/x-python",
   "name": "python",
   "nbconvert_exporter": "python",
   "pygments_lexer": "ipython3",
   "version": "3.9.6"
  }
 },
 "nbformat": 4,
 "nbformat_minor": 5
}
