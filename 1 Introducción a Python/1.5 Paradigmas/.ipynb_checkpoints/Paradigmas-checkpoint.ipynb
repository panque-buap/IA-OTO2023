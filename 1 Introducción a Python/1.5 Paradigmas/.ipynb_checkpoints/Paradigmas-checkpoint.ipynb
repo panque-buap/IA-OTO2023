{
 "cells": [
  {
   "cell_type": "code",
   "execution_count": null,
   "id": "6f48953e",
   "metadata": {},
   "outputs": [],
   "source": [
    "#Es un tipo de estructura de programación (es la forma)\n",
    "\n",
    "#Paradigma imperativo:\n",
    "    # Paradigma máquina \n",
    "    # Paradigma ensamblador (instrucciones)\n",
    "    # Paradigma de procedimientos (sentencias)\n",
    "\n",
    "if (x>5):\n",
    "    pass\n",
    "    \n",
    "#Ejemplo 1\n",
    "n1=float(input(\"Intro número uno: \"))\n",
    "n2=float(input(\"Intro numero dos: \"))\n",
    "suma=n1+n2\n",
    "\n",
    "print(\"La suma es: \",suma)"
   ]
  },
  {
   "cell_type": "code",
   "execution_count": null,
   "id": "9e79f42c",
   "metadata": {},
   "outputs": [],
   "source": [
    "#Ejemplo 2\n",
    "\n",
    "num1 = 2\n",
    "num2 = 2\n",
    "  \n",
    "sum = num1 + num2 \n",
    "  \n",
    "print(\"Sum of {0} and {1} is {2}\" .format(num1, num2, sum)) \n"
   ]
  },
  {
   "cell_type": "code",
   "execution_count": null,
   "id": "b8519481",
   "metadata": {},
   "outputs": [],
   "source": [
    "#Paradigma declarativo:\n",
    "  #Paradigma funcional\n",
    "\n",
    "#import bibliotecaMatematica \n",
    "\n",
    "def suma(n1,n2):\n",
    "    s = n1+n2\n",
    "    return s\n",
    "\n",
    "def resta(n1,n2):\n",
    "    s = n1-n2\n",
    "    return s\n",
    "\n",
    "def multiplicacion(n1,n2):\n",
    "    s = n1*n2\n",
    "    return s\n",
    "\n",
    "print(suma(1,3))\n"
   ]
  }
 ],
 "metadata": {
  "kernelspec": {
   "display_name": "Python 3 (ipykernel)",
   "language": "python",
   "name": "python3"
  },
  "language_info": {
   "codemirror_mode": {
    "name": "ipython",
    "version": 3
   },
   "file_extension": ".py",
   "mimetype": "text/x-python",
   "name": "python",
   "nbconvert_exporter": "python",
   "pygments_lexer": "ipython3",
   "version": "3.9.12"
  }
 },
 "nbformat": 4,
 "nbformat_minor": 5
}
