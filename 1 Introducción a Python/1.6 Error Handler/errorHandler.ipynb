{
 "cells": [
  {
   "cell_type": "code",
   "execution_count": null,
   "id": "3057175d",
   "metadata": {},
   "outputs": [],
   "source": [
    "numero = int(input(\"Ingrese numero\"))"
   ]
  },
  {
   "cell_type": "code",
   "execution_count": null,
   "id": "5a3eba19",
   "metadata": {},
   "outputs": [],
   "source": [
    "#Error en general\n",
    "\n",
    "try:\n",
    "    numero = int(input(\"Ingrese numero\"))\n",
    "    numero = numero + 1\n",
    "    print(numero)\n",
    "except:\n",
    "    print(\"Hay un error en el programa\")\n",
    "    \n",
    "print(\"PROGRAMA TERMINADO\")\n"
   ]
  },
  {
   "cell_type": "code",
   "execution_count": null,
   "id": "004c046a",
   "metadata": {},
   "outputs": [],
   "source": [
    "#Errores por tipo\n",
    "\n",
    "numero1 = 0\n",
    "numero2 = 5\n",
    "\n",
    "try:\n",
    "    division = numero2/numero1\n",
    "    print(division)\n",
    "except ZeroDivisionError:\n",
    "    print(\"Error de division por cero\")\n",
    "except TypeError:\n",
    "    print(\"Error de tipo de dato\")"
   ]
  },
  {
   "cell_type": "code",
   "execution_count": null,
   "id": "514489bf",
   "metadata": {},
   "outputs": [],
   "source": [
    "#Error por tipo en general \n",
    "\n",
    "numero1 = \"0\"\n",
    "numero2 = 5\n",
    "\n",
    "try:\n",
    "    division = numero2/numero1\n",
    "    print(division)\n",
    "except Exception as e:\n",
    "    print(e)"
   ]
  },
  {
   "cell_type": "code",
   "execution_count": null,
   "id": "74c869c7",
   "metadata": {},
   "outputs": [],
   "source": []
  }
 ],
 "metadata": {
  "kernelspec": {
   "display_name": "Python 3 (ipykernel)",
   "language": "python",
   "name": "python3"
  },
  "language_info": {
   "codemirror_mode": {
    "name": "ipython",
    "version": 3
   },
   "file_extension": ".py",
   "mimetype": "text/x-python",
   "name": "python",
   "nbconvert_exporter": "python",
   "pygments_lexer": "ipython3",
   "version": "3.9.12"
  }
 },
 "nbformat": 4,
 "nbformat_minor": 5
}
