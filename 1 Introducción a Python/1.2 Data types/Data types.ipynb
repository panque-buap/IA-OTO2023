{
 "cells": [
  {
   "cell_type": "code",
   "execution_count": null,
   "id": "561f40b5",
   "metadata": {},
   "outputs": [],
   "source": [
    "#create a variable with integer value.\n",
    "a=100\n",
    "print(\"The type of variable having value\", a, \" is \", type(a))\n",
    "\n",
    "#create a variable with float value.\n",
    "b=10.2345\n",
    "print(\"The type of variable having value\", b, \" is \", type(b))\n",
    "\n",
    "#create a variable with complex value.\n",
    "c=100+3j\n",
    "print(\"The type of variable having value\", c, \" is \", type(c))"
   ]
  },
  {
   "cell_type": "code",
   "execution_count": null,
   "id": "ac52bdd3",
   "metadata": {},
   "outputs": [],
   "source": [
    "a = \"string in a double quote\"\n",
    "b= 'string in a single quote'\n",
    "print(a)\n",
    "print(b)\n",
    "\n",
    "# using ',' to concatenate the two or several strings\n",
    "print(a,\"concatenated with\",b)\n",
    "\n",
    "#using '+' to concate the two or several strings\n",
    "print(a+\" concated with \"+b)"
   ]
  },
  {
   "cell_type": "code",
   "execution_count": null,
   "id": "14f82eac",
   "metadata": {},
   "outputs": [],
   "source": [
    "x = True\n",
    "#display x:\n",
    "print(x)\n",
    "#display the data type of x:\n",
    "print(type(x)) "
   ]
  }
 ],
 "metadata": {
  "kernelspec": {
   "display_name": "Python 3",
   "language": "python",
   "name": "python3"
  },
  "language_info": {
   "codemirror_mode": {
    "name": "ipython",
    "version": 3
   },
   "file_extension": ".py",
   "mimetype": "text/x-python",
   "name": "python",
   "nbconvert_exporter": "python",
   "pygments_lexer": "ipython3",
   "version": "3.9.6"
  }
 },
 "nbformat": 4,
 "nbformat_minor": 5
}
